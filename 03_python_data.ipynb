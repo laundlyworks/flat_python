{
 "cells": [
  {
   "cell_type": "markdown",
   "metadata": {},
   "source": [
    "# ふらっとPythonの会 \n",
    "\n",
    "#### 2022 / 3 / 7\n",
    "\n",
    "## 回帰分析"
   ]
  },
  {
   "cell_type": "markdown",
   "metadata": {},
   "source": [
    "コンピュータを用いて、統計分析に挑戦します。\n",
    "\n",
    "統計分析を行う目的は、データの理解、状態（<b>変化</b>）の把握、自分の主張のエビデンスの作成、などさまざまです。\n",
    "\n",
    "分析は、より客観的に、より説得力の高いものを目指そうとすると、統計理論、数学的理論に沿った多くのステップを踏まなければなりません。\n",
    "\n",
    "今回は、そこまでのものは目指さず、データの理解、Pythonに慣れることを目的とした、簡易的な分析を行うこととします。\n",
    "\n",
    "作業には、以下のステップを踏みます。\n",
    "\n",
    "- インターネットから（成形済み）データのダウンロード\n",
    "- データの可視化\n",
    "- 回帰分析\n",
    "- 結果の確認"
   ]
  },
  {
   "cell_type": "code",
   "execution_count": null,
   "metadata": {},
   "outputs": [],
   "source": [
    "import numpy as np\n",
    "import pandas as pd\n",
    "from pandas import Series, DataFrame"
   ]
  },
  {
   "cell_type": "markdown",
   "metadata": {},
   "source": [
    "## 3_1. データのダウンロード\n",
    "\n",
    "`02_python_analysis.ipynb` でもやりました、インターネットからデータのダウンロードを行います。\n",
    "\n",
    "URLは変えなければなりませんが、ほとんどのコードを流用することができます。\n",
    "\n",
    "今回は、3つのファイルをダウンロードします。"
   ]
  },
  {
   "cell_type": "code",
   "execution_count": null,
   "metadata": {},
   "outputs": [],
   "source": [
    "import requests\n",
    "\n",
    "url = 'http://archive.ics.uci.edu/ml/machine-learning-databases/wine-quality/'\n",
    "\n",
    "filename='winequality-red.csv'\n",
    "urlData = requests.get(url + filename).content\n",
    "\n",
    "with open(filename, mode='wb') as f:\n",
    "    f.write(urlData)\n",
    "\n",
    "filename='winequality-white.csv'\n",
    "urlData = requests.get(url + filename).content\n",
    "with open(filename, mode='wb') as f:\n",
    "    f.write(urlData)\n",
    "    \n",
    "filename='winequality.names'\n",
    "urlData = requests.get(url + filename).content\n",
    "with open(filename ,mode='wb') as f:\n",
    "    f.write(urlData)"
   ]
  },
  {
   "cell_type": "markdown",
   "metadata": {},
   "source": [
    "#### 参考\n",
    "\n",
    "今回利用するWebサイト（ http://archive.ics.uci.edu/ml/machine-learning-databases/ ）は、データ分析の初学者や、Pythonの練習者に対して公開されている、練習用データです。\n",
    "\n",
    "（練習といっても、中身は本物です。）\n",
    "\n",
    "今回使用するデータ以外にも多様なデータがあるので、ぜひ利用してみてください。"
   ]
  },
  {
   "cell_type": "code",
   "execution_count": null,
   "metadata": {},
   "outputs": [],
   "source": []
  },
  {
   "cell_type": "markdown",
   "metadata": {},
   "source": [
    "今回は、3つのファイルをダウンロードします。\n",
    "\n",
    "ダウンロードしたファイルのタイトルから推測できる通り、今回は、ワインの品質検査の結果をまとめたデータを使い、ワインの成分と品質の関係について分析します。\n",
    "\n",
    "- `winequality-red.csv`: 赤ワインの分析データと品質\n",
    "- `winequality-white.csv`: 白ワインの分析データと品質\n",
    "- `winequality.names`: データの説明\n",
    "\n",
    "以上のファイルがダウンロードできたら、 `winequality.names` を読んでみてください（Jupyter notebook上ではファイルをクリックするだけで見ることができるはずです）。\n",
    "\n"
   ]
  },
  {
   "cell_type": "code",
   "execution_count": null,
   "metadata": {},
   "outputs": [],
   "source": [
    "# 保存したデータを読み込みます。\n",
    "red_wine = pd.read_csv('winequality-red.csv',sep=';')\n",
    "white_wine = pd.read_csv('winequality-white.csv',sep=';')"
   ]
  },
  {
   "cell_type": "code",
   "execution_count": null,
   "metadata": {},
   "outputs": [],
   "source": [
    "# 赤ワインのデータの最初の5つ\n",
    "red_wine.head()"
   ]
  },
  {
   "cell_type": "code",
   "execution_count": null,
   "metadata": {},
   "outputs": [],
   "source": [
    "# 白ワインのデータの最初の5つ\n",
    "white_wine.head()"
   ]
  },
  {
   "cell_type": "markdown",
   "metadata": {},
   "source": [
    "`winequality.names`に詳しい説明がありますが、それぞれの変数について簡単にまとめておきます。\n",
    "\n",
    "|No.|変数名|日本語訳|単位（記号）|\n",
    "|-|-|-|-|\n",
    "|1|fixed acidity|固定酸性度（酒石酸）|$g/dm^3$|\n",
    "|2|volatile acidity|揮発性酸性度（酢酸）|$g/dm^3$|\n",
    "|3|citric acid|クエン酸|$g/dm^3$|\n",
    "|4|residual sugar|残留糖|$g/dm^3$|\n",
    "|5|chlorides|塩化ナトリウム濃度|$g/dm^3$|\n",
    "|6|free sulfur dioxide|遊離二酸化硫黄（亜硫酸）|$mg/dm^3$|\n",
    "|7|total sulfur dioxide|総二酸化硫黄（亜硫酸）|$mg/dm^3$|\n",
    "|8|density|比重|$g/dm^3$|\n",
    "|9|pH|pH|-|\n",
    "|10|sulphates|硫酸塩（硫酸カリウム）|$g/dm^3$|\n",
    "|11|alcohol|アルコール濃度|$ \\%$|\n",
    "|12|quality|品質検査結果|-|"
   ]
  },
  {
   "cell_type": "markdown",
   "metadata": {},
   "source": [
    "ワインに詳しくない人も、化学に明るくない人も、一度読んでみましょう。"
   ]
  },
  {
   "cell_type": "markdown",
   "metadata": {},
   "source": [
    "統計分析や機械学習は、パソコン上でおこなう場合は、変数の意味を深く理解せずとも機械的に進めることもできます。\n",
    "\n",
    "コンピュータの性能の向上によって、数百万件規模のデータを総当たり的に比較したり、何通りもの分析手法を並行で行うことができるようになりました。\n",
    "\n",
    "これにより、統計学の知識が不十分でも、やろうと思えば、専門家に匹敵する正確なモデルを導出することも不可能ではなくなりました。しかし、意味を理解してから分析を行うことは、効率よく分析を進めることができるほか、見識を広げる上でも役に立ちます。\n",
    "\n",
    "例え苦手な分野だとしても、データを理解するためのプロセスは必ず踏みましょう。"
   ]
  },
  {
   "cell_type": "markdown",
   "metadata": {},
   "source": [
    "## 3_2. データの理解\n",
    "\n",
    "新しくデータを取得した際、どのような特徴を持つデータなのか、データの理解する作業は必要です。\n",
    "\n",
    "ひと目で確認することが困難なほどデータ数が多い場合には、「集計する」、「図示する」などが有効な手段です。"
   ]
  },
  {
   "cell_type": "markdown",
   "metadata": {},
   "source": [
    "`DataFrame`型には、データのサマリーを出力する便利な関数があります。\n",
    "\n",
    "- pandas.DataFrame.info()\n",
    "\n",
    "`DataFrame`型データの各列のデータ型や、異常値がないかを確認することができます。"
   ]
  },
  {
   "cell_type": "code",
   "execution_count": null,
   "metadata": {},
   "outputs": [],
   "source": [
    "# 赤ワインデータの全体像を見る\n",
    "red_wine.info()"
   ]
  },
  {
   "cell_type": "markdown",
   "metadata": {},
   "source": [
    "- pandas.DataFrame.describe()\n",
    "\n",
    "`DataFrame`型データの各列のデータの平均値や標準偏差（分散）等を確認することができます。"
   ]
  },
  {
   "cell_type": "code",
   "execution_count": null,
   "metadata": {},
   "outputs": [],
   "source": [
    "# 赤ワインデータの各列を確認する\n",
    "red_wine.describe()"
   ]
  },
  {
   "cell_type": "markdown",
   "metadata": {},
   "source": [
    "### Ex. 3_1\n",
    "\n",
    "1. それぞれの特徴量（各列のことを特徴量といいます）がどのようなデータになっているか考えてみてください。\n",
    "2. 赤ワインと白ワインのデータを比較してみましょう。何がわかりますか？"
   ]
  },
  {
   "cell_type": "code",
   "execution_count": null,
   "metadata": {},
   "outputs": [],
   "source": []
  },
  {
   "cell_type": "markdown",
   "metadata": {},
   "source": [
    "### （参考）箱ひげ図\n",
    "\n",
    "箱ひげ図とは、データの散らばりを単純な図形で表現したものです。\n",
    "\n",
    "中央値、第一四分位、第三四分位、最小値、最大値、外れ値がわかります。\n"
   ]
  },
  {
   "cell_type": "code",
   "execution_count": null,
   "metadata": {},
   "outputs": [],
   "source": [
    "import matplotlib.pyplot as plt\n",
    "%matplotlib inline\n",
    "\n",
    "plt.figure(figsize=(8,6))\n",
    "plt.boxplot(red_wine[\"alcohol\"],\n",
    "            labels=[\"alcohol\"])\n",
    "\n",
    "plt.grid(axis=\"y\")\n",
    "plt.show()"
   ]
  },
  {
   "cell_type": "code",
   "execution_count": null,
   "metadata": {},
   "outputs": [],
   "source": [
    "#赤ワインのアルコールと白ワインのアルコールを比較してみる\n",
    "\n",
    "plt.figure(figsize=(8,6))\n",
    "plt.boxplot([red_wine[\"alcohol\"], white_wine[\"alcohol\"]],\n",
    "            labels=[\"alcohol_red\", \"alcohol_white\"])\n",
    "\n",
    "plt.grid(axis=\"y\")\n",
    "plt.show()"
   ]
  },
  {
   "cell_type": "markdown",
   "metadata": {},
   "source": [
    "分析を行う上で一番気になるのはやはり品質の結果（`quality`）です。\n",
    "\n",
    "`quality`は、カテゴリ変数（0 - 10 までの整数データ）なので、棒グラフで表現します。"
   ]
  },
  {
   "cell_type": "code",
   "execution_count": null,
   "metadata": {},
   "outputs": [],
   "source": [
    "#赤ワインのアルコールと白ワインのqualityを比較してみる\n",
    "\n",
    "red_wine_quality = red_wine.groupby(\"quality\")[\"quality\"].count()\n",
    "plt.bar(x = red_wine_quality.index, height = red_wine_quality)\n",
    "plt.grid(axis=\"both\")\n",
    "plt.show()"
   ]
  },
  {
   "cell_type": "code",
   "execution_count": null,
   "metadata": {},
   "outputs": [],
   "source": [
    "white_wine_quality = white_wine.groupby(\"quality\")[\"quality\"].count()\n",
    "plt.bar(x = white_wine_quality.index, height = white_wine_quality)\n",
    "plt.grid(axis=\"both\")\n",
    "plt.show()"
   ]
  },
  {
   "cell_type": "markdown",
   "metadata": {},
   "source": [
    "### 相関関係と散布図"
   ]
  },
  {
   "cell_type": "markdown",
   "metadata": {},
   "source": [
    "データの特徴を理解する上で、最も重要な項目の一つが相関関係です。\n",
    "\n",
    "2つのデータが相互に影響している可能性がある場合、相関関係に表れます。\n",
    "\n",
    "例えば、`quality` と `alcohol` に相関関係はないかどうか、調べてみます。\n",
    "\n",
    "相関関係は、散布図を作成すれば、すぐにわかります。"
   ]
  },
  {
   "cell_type": "code",
   "execution_count": null,
   "metadata": {},
   "outputs": [],
   "source": [
    "# quality と alcohol の関係を散布図で示す（赤ワイン）\n",
    "plt.scatter(x=red_wine['quality'], y=red_wine['alcohol'])\n",
    "plt.show()"
   ]
  },
  {
   "cell_type": "code",
   "execution_count": null,
   "metadata": {},
   "outputs": [],
   "source": [
    "# quality と alcohol の関係を散布図で示す（白ワイン）\n",
    "plt.scatter(x=white_wine['quality'], y=white_wine['alcohol'])\n",
    "plt.show()"
   ]
  },
  {
   "cell_type": "markdown",
   "metadata": {},
   "source": [
    "いかがでしょうか。\n",
    "\n",
    "相関関係があるような、ないような、判断が少し難しいかもしれません。\n",
    "\n",
    "相関関係は、相関係数という数値で決まりますが、相関係数は計算で出すことができます。"
   ]
  },
  {
   "cell_type": "code",
   "execution_count": null,
   "metadata": {},
   "outputs": [],
   "source": [
    "# quality と alcohol の相関係数（赤ワイン）\n",
    "np.corrcoef(red_wine[\"quality\"], red_wine[\"alcohol\"])"
   ]
  },
  {
   "cell_type": "code",
   "execution_count": null,
   "metadata": {},
   "outputs": [],
   "source": [
    "# quality と alcohol の相関係数（白ワイン）\n",
    "np.corrcoef(white_wine[\"quality\"], white_wine[\"alcohol\"])"
   ]
  },
  {
   "cell_type": "code",
   "execution_count": null,
   "metadata": {},
   "outputs": [],
   "source": []
  },
  {
   "cell_type": "markdown",
   "metadata": {},
   "source": [
    "相関係数の目安はおおむね以下のとおりです。\n",
    "\n",
    "- 0.6 - 0.8 強い相関関係\n",
    "- 0.4 - 0.6 弱い相関関係\n",
    "- 0.2 - 0.4 相関関係はない"
   ]
  },
  {
   "cell_type": "code",
   "execution_count": null,
   "metadata": {},
   "outputs": [],
   "source": []
  },
  {
   "cell_type": "markdown",
   "metadata": {},
   "source": [
    "### Ex. 3_2\n",
    "\n",
    "1. 赤ワインと白ワインについて、品質（`quality`）と、残留糖（`residual sugar`）の散布図を作成し、相関係数を計算してみましょう。"
   ]
  },
  {
   "cell_type": "code",
   "execution_count": null,
   "metadata": {},
   "outputs": [],
   "source": [
    "# quality と residual sugar の関係を散布図で示す（赤ワイン）\n",
    "plt.scatter(x=red_wine['quality'], y=red_wine['residual sugar'])\n",
    "plt.show()"
   ]
  },
  {
   "cell_type": "code",
   "execution_count": null,
   "metadata": {},
   "outputs": [],
   "source": [
    "# quality と residual sugar の関係を散布図で示す（白ワイン）\n",
    "plt.scatter(x=white_wine['quality'], y=white_wine['residual sugar'])\n",
    "plt.show()"
   ]
  },
  {
   "cell_type": "code",
   "execution_count": null,
   "metadata": {},
   "outputs": [],
   "source": [
    "# quality と residual sugar の相関係数（赤ワイン）\n",
    "np.corrcoef(red_wine[\"*******\"], red_wine[\"*******\"])"
   ]
  },
  {
   "cell_type": "code",
   "execution_count": null,
   "metadata": {},
   "outputs": [],
   "source": [
    "# quality と residual sugar の相関係数（白ワイン）\n",
    "np.corrcoef(white_wine[\"*******\"], white_wine[\"*******\"])"
   ]
  },
  {
   "cell_type": "code",
   "execution_count": null,
   "metadata": {},
   "outputs": [],
   "source": []
  },
  {
   "cell_type": "markdown",
   "metadata": {},
   "source": [
    "### Ex. 3_3\n",
    "\n",
    "1. 赤ワインと白ワインについて、アルコール度数（`alcohol`）と、残留糖（`residual sugar`）の散布図を作成し、相関係数を計算してみましょう。そこから何かわかることはあるでしょうか。"
   ]
  },
  {
   "cell_type": "code",
   "execution_count": null,
   "metadata": {},
   "outputs": [],
   "source": [
    "# residual sugar と alcohol の関係を散布図で示す（赤ワイン）\n",
    "plt.scatter(x=red_wine['alcohol'], y=red_wine['residual sugar'])\n",
    "plt.title(\"alcohol vs. residual sugar - red wine\")\n",
    "plt.xlabel(\"alcohol\")\n",
    "plt.ylabel(\"residual sugar\")\n",
    "plt.show()"
   ]
  },
  {
   "cell_type": "code",
   "execution_count": null,
   "metadata": {},
   "outputs": [],
   "source": [
    "# residual sugar と alcohol の関係を散布図で示す（白ワイン）\n",
    "plt.scatter(x=white_wine['alcohol'], y=white_wine['residual sugar'])\n",
    "plt.title(\"alcohol vs. residual sugar - white wine\")\n",
    "plt.xlabel(\"alcohol\")\n",
    "plt.ylabel(\"residual sugar\")\n",
    "plt.show()"
   ]
  },
  {
   "cell_type": "code",
   "execution_count": null,
   "metadata": {},
   "outputs": [],
   "source": [
    "# alcohol と residual sugar の相関係数（赤ワイン）\n",
    "np.corrcoef(red_wine[\"*******\"], red_wine[\"*******\"])"
   ]
  },
  {
   "cell_type": "code",
   "execution_count": null,
   "metadata": {},
   "outputs": [],
   "source": [
    "# alcohol と residual sugar の相関係数（白ワイン）\n",
    "np.corrcoef(white_wine[\"*******\"], white_wine[\"*******\"])"
   ]
  },
  {
   "cell_type": "code",
   "execution_count": null,
   "metadata": {},
   "outputs": [],
   "source": []
  },
  {
   "cell_type": "markdown",
   "metadata": {},
   "source": [
    "これまで、個々の特徴量について比較してきました。\n",
    "\n",
    "最後に、全ての特徴量の相関係数を出して、図示してみます。"
   ]
  },
  {
   "cell_type": "code",
   "execution_count": null,
   "metadata": {},
   "outputs": [],
   "source": [
    "# seaborn というライブラリを新しくインストールします。\n",
    "!pip install seaborn"
   ]
  },
  {
   "cell_type": "code",
   "execution_count": null,
   "metadata": {},
   "outputs": [],
   "source": [
    "# seaborn で相関係数をヒートマップ形式で図示します。\n",
    "import seaborn as sns\n",
    "\n",
    "corr = red_wine.corr()\n",
    "\n",
    "fig, ax = plt.subplots(figsize=(10, 8))\n",
    "sns.heatmap(corr, vmax=1, vmin=-1, center=0, annot=True, cbar=True, cmap='coolwarm', square=True, fmt='.2f', ax=ax)"
   ]
  },
  {
   "cell_type": "markdown",
   "metadata": {},
   "source": [
    "quality と比較的強い相関を持つのは、 「alcohol」、「volatile acidity」、「sulphates」、「critic acid」ということがわかりました。"
   ]
  },
  {
   "cell_type": "markdown",
   "metadata": {},
   "source": [
    "## 3_3. 最大値と最小値\n",
    "\n",
    "今回のデータでは、特徴量から品質（`quality`）の傾向を分析しますので、\n",
    "\n",
    "データを品質（`quality`）ごとに集計し、それぞれの特徴量の最大値と最小値を計算しましょう。\n",
    "\n",
    "`02_python_analysis.ipynb` で、データを集計する前処理を行いましたが、今回も同様の関数を用います。"
   ]
  },
  {
   "cell_type": "code",
   "execution_count": null,
   "metadata": {},
   "outputs": [],
   "source": [
    "wine_min_max = white_wine.groupby('quality')"
   ]
  },
  {
   "cell_type": "code",
   "execution_count": null,
   "metadata": {},
   "outputs": [],
   "source": [
    "#qualityごとの最大値を表示します。\n",
    "wine_min_max.max()"
   ]
  },
  {
   "cell_type": "code",
   "execution_count": null,
   "metadata": {},
   "outputs": [],
   "source": [
    "#qualityごとの最大値を表示します。\n",
    "wine_min_max.min()"
   ]
  },
  {
   "cell_type": "code",
   "execution_count": null,
   "metadata": {},
   "outputs": [],
   "source": [
    "#qualityごとの平均値を表示します。\n",
    "wine_min_max.mean()"
   ]
  },
  {
   "cell_type": "code",
   "execution_count": null,
   "metadata": {},
   "outputs": [],
   "source": [
    "#qualityごとの平均値を表示します。\n",
    "wine_min_max.median()"
   ]
  },
  {
   "cell_type": "markdown",
   "metadata": {},
   "source": [
    "最大値、最小値の比較には、箱ひげ図が便利です。"
   ]
  },
  {
   "cell_type": "code",
   "execution_count": null,
   "metadata": {},
   "outputs": [],
   "source": [
    "# 赤ワイン\n",
    "import matplotlib.pyplot as plt\n",
    "%matplotlib inline\n",
    "\n",
    "plt.figure(figsize=(12,6))\n",
    "plt.boxplot([red_wine[red_wine[\"quality\"] == 3][\"alcohol\"],\n",
    "            red_wine[red_wine[\"quality\"] == 4][\"alcohol\"],\n",
    "            red_wine[red_wine[\"quality\"] == 5][\"alcohol\"],\n",
    "            red_wine[red_wine[\"quality\"] == 6][\"alcohol\"],\n",
    "            red_wine[red_wine[\"quality\"] == 7][\"alcohol\"],\n",
    "            red_wine[red_wine[\"quality\"] == 8][\"alcohol\"]],\n",
    "            labels=[\"alcohol: quality = 3\",\n",
    "                    \"alcohol: quality = 4\",\n",
    "                    \"alcohol: quality = 5\",\n",
    "                    \"alcohol: quality = 6\",\n",
    "                    \"alcohol: quality = 7\",\n",
    "                    \"alcohol: quality = 8\"\n",
    "                   ])\n",
    "\n",
    "plt.grid(axis=\"y\")\n",
    "plt.show()"
   ]
  },
  {
   "cell_type": "code",
   "execution_count": null,
   "metadata": {},
   "outputs": [],
   "source": []
  },
  {
   "cell_type": "markdown",
   "metadata": {},
   "source": [
    "## 3_4.重回帰分析"
   ]
  },
  {
   "cell_type": "markdown",
   "metadata": {},
   "source": [
    "最後に、ワインの成分データから `quality` を求めるモデルを作成します。\n",
    "\n",
    "統計学においてモデルとは、たいてい「数理モデル」のことを指します。"
   ]
  },
  {
   "cell_type": "code",
   "execution_count": null,
   "metadata": {},
   "outputs": [],
   "source": [
    "from sklearn.model_selection import train_test_split\n",
    "\n",
    "X = red_wine.drop('quality', axis=1)\n",
    "y = red_wine['quality']\n",
    "\n",
    "X_train, X_test, y_train, y_test = train_test_split(X, y, train_size =0.8, random_state=0)"
   ]
  },
  {
   "cell_type": "code",
   "execution_count": null,
   "metadata": {},
   "outputs": [],
   "source": [
    "import statsmodels.api as sm\n",
    "\n",
    "# 回帰モデルを作成します(OLSとは、Ordinary Least Square: 最小二乗法のことです)。\n",
    "mod = sm.OLS(y_train, sm.add_constant(X_train))\n",
    "\n",
    "# モデルを使って学習します。\n",
    "result = mod.fit() \n",
    "\n",
    "# 統計サマリを表示\n",
    "print(result.summary())"
   ]
  },
  {
   "cell_type": "code",
   "execution_count": null,
   "metadata": {},
   "outputs": [],
   "source": []
  },
  {
   "cell_type": "markdown",
   "metadata": {},
   "source": [
    "### （参考）\n",
    "\n",
    "- R-squared: 決定係数。被説明変数の動きのうち、説明変数の動きで説明できる割合=回帰式の当て はまりの良さを示す。1が最も良い。\n",
    "\n",
    "- F-statistic: F値。回帰式が意味があるかどうかを検定する統計量。\n",
    "\n",
    "- Prob (F-statistic): (F 検定に基づく)p 値。回帰式が意味が無い(全ての説明変数の係数がゼロである)確率。\n",
    "\n",
    "- t: t値。係数の有意性(意味がある説明変数かどうか)を検定するための統計量。 t 値=係数の推定値/係数の標準誤差。概ね 2 より大きければ良い。\n",
    "\n",
    "- P>|t|: p 値(t 検定に基づく)。説明変数として意味の無い(係数がゼロである)確率。小さければ意味のある説明変数である(「有意」である)と判断。"
   ]
  },
  {
   "cell_type": "code",
   "execution_count": null,
   "metadata": {},
   "outputs": [],
   "source": []
  },
  {
   "cell_type": "code",
   "execution_count": null,
   "metadata": {},
   "outputs": [],
   "source": []
  }
 ],
 "metadata": {
  "kernelspec": {
   "display_name": "Python 3",
   "language": "python",
   "name": "python3"
  },
  "language_info": {
   "codemirror_mode": {
    "name": "ipython",
    "version": 3
   },
   "file_extension": ".py",
   "mimetype": "text/x-python",
   "name": "python",
   "nbconvert_exporter": "python",
   "pygments_lexer": "ipython3",
   "version": "3.8.3"
  }
 },
 "nbformat": 4,
 "nbformat_minor": 4
}
