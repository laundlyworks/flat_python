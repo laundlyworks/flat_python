{
 "cells": [
  {
   "cell_type": "markdown",
   "metadata": {},
   "source": [
    "# ふらっとPythonの会 \n",
    "\n",
    "#### 2022 / 1 / 24\n",
    "\n",
    "## データ分析実践"
   ]
  },
  {
   "cell_type": "markdown",
   "metadata": {},
   "source": [
    "実際のデータ分析作業には、都度外部モジュールを使うことになります。\n",
    "\n",
    "ここでは、西粟倉村のオープンデータをダウンロードし、グラフにしてみましょう。\n",
    "\n",
    "作業には、以下のステップを踏みます。\n",
    "\n",
    "- インターネットからデータのダウンロード\n",
    "- データの成形\n",
    "- 可視化"
   ]
  },
  {
   "cell_type": "markdown",
   "metadata": {},
   "source": [
    "## 2_1. データ読み込み"
   ]
  },
  {
   "cell_type": "markdown",
   "metadata": {},
   "source": [
    "インターネットへのアクセスには `requests` を使用します。"
   ]
  },
  {
   "cell_type": "markdown",
   "metadata": {},
   "source": [
    "おかやまオープンデータカタログ：\n",
    "https://www.okayama-opendata.jp/"
   ]
  },
  {
   "cell_type": "code",
   "execution_count": null,
   "metadata": {},
   "outputs": [],
   "source": [
    "import requests\n",
    "\n",
    "# url='http://vill.nishiawakura.okayama.jp/open_data/jinko/nenreibetsu/202104_nishiawakura.xls'\n",
    "\n",
    "filename='R3人口データ.xls'\n",
    "urlData = requests.get(url).content\n",
    "\n",
    "with open(filename ,mode='wb') as f:\n",
    "    f.write(urlData)"
   ]
  },
  {
   "cell_type": "markdown",
   "metadata": {},
   "source": [
    "これで、ダウンロードが完了し、現在のディレクトリに保存されたことになります。"
   ]
  },
  {
   "cell_type": "code",
   "execution_count": null,
   "metadata": {},
   "outputs": [],
   "source": [
    "# 以下のようにして、現在のディレクトリを明示することもできます。\n",
    "import os\n",
    "os.getcwd()"
   ]
  },
  {
   "cell_type": "markdown",
   "metadata": {},
   "source": [
    "## 2_2. 前処理"
   ]
  },
  {
   "cell_type": "markdown",
   "metadata": {},
   "source": [
    "前処理とは、データ分析作業の前段階で、データの成形や型の調整、外れ値やデータ以上の確認など、分析時に意図しない結果を返さないように、データを編集する作業です。\n",
    "\n",
    "データ分析業務において、実際の分析より時間がかかる場合が多く、「実作業の9割は前処理に費やす」ともいわれます。\n",
    "\n",
    "今回は、Pythonでデータ分析を行う上で最もよく使うモジュールのひとつ`Pandas`を、前処理部分で使います。\n",
    "\n",
    "`Pandas`は`Numpy`と並んで最頻のモジュールであり、強力なデータ構造である`Series`と`DataFrame`が提供されています。\n",
    "\n",
    "エクセルファイルを読み込む専用のメソッド`read_excel`を使用すると、いきなり`DataFrame`型で読み込みが完了します。"
   ]
  },
  {
   "cell_type": "code",
   "execution_count": null,
   "metadata": {},
   "outputs": [],
   "source": [
    "import pandas as pd\n",
    "df = pd.read_excel(\"./R3人口データ.xls\", sheet_name = \"外国人含む\")\n",
    "df"
   ]
  },
  {
   "cell_type": "code",
   "execution_count": null,
   "metadata": {},
   "outputs": [],
   "source": [
    "# .head()や .tail() メソッドで表示範囲を限定することができます。\n",
    "df.head(10) # <= デフォルトは5"
   ]
  },
  {
   "cell_type": "markdown",
   "metadata": {},
   "source": [
    "`read_excel`は非常に便利ですが、エクセルファイルを読み込んでも、通常そのまま分析に使える状態にはなりません。\n",
    "\n",
    "元データによっては、A1セルからデータが始まっていない、ヘッダーが複数行になっている、注記など不要な記述をそのまま読み込んでしまうなどが要因となります。\n",
    "\n"
   ]
  },
  {
   "cell_type": "markdown",
   "metadata": {},
   "source": [
    "今回はデータも少ないので、エクセルファイルを直接見ながら、読み込む範囲を変えることで対応します。"
   ]
  },
  {
   "cell_type": "code",
   "execution_count": null,
   "metadata": {},
   "outputs": [],
   "source": [
    "df_jinkou = df.iloc[6:117,1:5]\n",
    "df_jinkou"
   ]
  },
  {
   "cell_type": "code",
   "execution_count": null,
   "metadata": {},
   "outputs": [],
   "source": [
    "#体裁をさらに整えます。\n",
    "df_jinkou.columns = [\"age\", \"male\", \"female\", \"total\"]\n",
    "df_jinkou = df_jinkou.reset_index(drop=True)"
   ]
  },
  {
   "cell_type": "code",
   "execution_count": null,
   "metadata": {},
   "outputs": [],
   "source": [
    "# 異常なデータを直接書き換えます。\n",
    "df_jinkou.iloc[-1, 0] = 109"
   ]
  },
  {
   "cell_type": "code",
   "execution_count": null,
   "metadata": {},
   "outputs": [],
   "source": [
    "df_jinkou"
   ]
  },
  {
   "cell_type": "markdown",
   "metadata": {},
   "source": [
    "これだけでだいぶスッキリしました。\n",
    "\n",
    "`Pandas`にはグラフ化のためのメソッドが用意されているので、この状態でも可視化することができます。"
   ]
  },
  {
   "cell_type": "code",
   "execution_count": null,
   "metadata": {},
   "outputs": [],
   "source": [
    "df_jinkou[\"total\"].plot()"
   ]
  },
  {
   "cell_type": "markdown",
   "metadata": {},
   "source": [
    "データの分布や特徴を見るだけであればこれでも十分でしょう。"
   ]
  },
  {
   "cell_type": "markdown",
   "metadata": {},
   "source": [
    "グラフにせずに、集計したいのであれば、こちらの方が便利です。\n",
    "\n",
    "- `pandas.DataFrame().describe()`\n",
    "- `pandas.DataFrame().info()`\n",
    "- `pandas.DataFrame().mean()`"
   ]
  },
  {
   "cell_type": "code",
   "execution_count": null,
   "metadata": {},
   "outputs": [],
   "source": [
    "df_jinkou.describe()"
   ]
  },
  {
   "cell_type": "markdown",
   "metadata": {},
   "source": [
    "## 2_3. 可視化"
   ]
  },
  {
   "cell_type": "markdown",
   "metadata": {},
   "source": [
    "可視化とは、相手に見せることを目的として、データを視覚的に表現することです。\n",
    "\n",
    "可視化するときに最も意識しなければならないポイントは、\n",
    "\n",
    "- 伝えたいことを盛り込むほど、情報量は多くなり、メッセージ性は低くなる。\n",
    "- 伝えたいことを絞るほど、情報量は少なくなり、メッセージ性は高くなる。\n",
    "\n",
    "のバランスをうまく取ることです。"
   ]
  },
  {
   "cell_type": "markdown",
   "metadata": {},
   "source": [
    "今回は、年齢別人口の分布を示すグラフを作ってみます。\n",
    "\n",
    "先のグラフをそのまま相手に見せるのも良いですが、x軸が詰まって見づらいので、５歳ずつの集計でも問題ないでしょう。\n",
    "\n",
    "そのための追加の前処理を行います。"
   ]
  },
  {
   "cell_type": "code",
   "execution_count": null,
   "metadata": {},
   "outputs": [],
   "source": [
    "cnt = 0\n",
    "groupstr = 'ABCDEFGHIJKLMNOPQRSTUVWXYZ' \n",
    "grouplist = []\n",
    "for i in df_jinkou['age']:\n",
    "    cnt += 1\n",
    "    grouplist.append(groupstr[i // 5])\n",
    "    \n",
    "df_jinkou[\"group\"] = grouplist"
   ]
  },
  {
   "cell_type": "code",
   "execution_count": null,
   "metadata": {},
   "outputs": [],
   "source": [
    "df_group = df_jinkou.groupby(by=\"group\").sum()[[\"male\", \"female\", \"total\"]]\n",
    "df_group = df_group.reset_index(drop=True)"
   ]
  },
  {
   "cell_type": "code",
   "execution_count": null,
   "metadata": {},
   "outputs": [],
   "source": [
    "df_group[\"bin\"] = [\"0-4\", \"5-9\", \"10-14\", \"15-19\",\n",
    "                    \"20-24\", \"25-29\", \"30-34\", \"35-39\",\n",
    "                    \"40-44\", \"45-49\", \"50-54\", \"55-59\",\n",
    "                   \"60-64\", \"65-69\", \"70-74\", \"75-79\",\n",
    "                   \"80-84\", \"85-89\", \"90-94\", \"95-99\",\n",
    "                   \"100-104\", \"105-109\"]"
   ]
  },
  {
   "cell_type": "markdown",
   "metadata": {},
   "source": [
    "５歳ごとに集計した新しい`DataFrame`：df_groupを作成しました。"
   ]
  },
  {
   "cell_type": "code",
   "execution_count": null,
   "metadata": {},
   "outputs": [],
   "source": [
    "df_group.head()"
   ]
  },
  {
   "cell_type": "markdown",
   "metadata": {},
   "source": [
    "それではグラフ化してみます。\n",
    "\n",
    "今回は、使いやすさと見た目の観点から、`matplotlib`を使います。\n",
    "\n",
    "公式：https://matplotlib.org/\n"
   ]
  },
  {
   "cell_type": "code",
   "execution_count": null,
   "metadata": {},
   "outputs": [],
   "source": [
    "from matplotlib import pyplot as plt\n",
    "%matplotlib inline"
   ]
  },
  {
   "cell_type": "code",
   "execution_count": null,
   "metadata": {},
   "outputs": [],
   "source": [
    "fig = plt.figure(figsize=(16, 8))\n",
    "\n",
    "#データを指定するオプション\n",
    "plt.bar(x=df_group[\"bin\"], height=df_group[\"male\"], label='male', align=\"edge\", width= 0.3)\n",
    "plt.bar(x=df_group[\"bin\"], height=df_group[\"female\"], label='female', align = 'edge', width=-0.3)\n",
    "\n",
    "#体裁を整えるためのオプション\n",
    "plt.title(\"Population in Nishiawakura\")\n",
    "plt.xticks(rotation = 45)\n",
    "plt.grid(axis='y')\n",
    "plt.legend(loc=\"upper left\",bbox_to_anchor=(0.8,1.0))\n",
    "\n",
    "plt.show()"
   ]
  },
  {
   "cell_type": "code",
   "execution_count": null,
   "metadata": {},
   "outputs": [],
   "source": [
    "# プレゼン資料等に使用するため、ディレクトリに保存します。\n",
    "fig.savefig(\"img.png\")"
   ]
  },
  {
   "cell_type": "markdown",
   "metadata": {},
   "source": [
    "【注意】\n",
    "\n",
    "ちなみに、`matplotlib`はデフォルトで日本語の表示に対応していません。\n",
    "\n",
    "初期状態で日本語を表示させようとすると、`□`で表示されます。（全員こうなります）\n",
    "\n",
    "日本語にするには、日本語のフォントデータを、インストールフォルダにコピーする必要があります。\n",
    "\n",
    "結構複雑な上に、環境によって正しいやり方が異なるので、時間があるときに挑戦してみてください。\n",
    "\n",
    "WindowsでAnacondaを使ってインストールした場合には、調べたかぎり、以下のURLが一番正解に近いですが、Anacondaをインストールした場所によって、コピー先が若干異なります。\n",
    "\n",
    "http://blog.livedoor.jp/oyajieng_memo/archives/2682215.html\n",
    "\n",
    "フォントデータは、`IPAexゴシック`が簡単です。https://moji.or.jp/ipafont/ipaex00401/"
   ]
  },
  {
   "cell_type": "code",
   "execution_count": null,
   "metadata": {},
   "outputs": [],
   "source": []
  }
 ],
 "metadata": {
  "kernelspec": {
   "display_name": "Python 3",
   "language": "python",
   "name": "python3"
  },
  "language_info": {
   "codemirror_mode": {
    "name": "ipython",
    "version": 3
   },
   "file_extension": ".py",
   "mimetype": "text/x-python",
   "name": "python",
   "nbconvert_exporter": "python",
   "pygments_lexer": "ipython3",
   "version": "3.8.3"
  }
 },
 "nbformat": 4,
 "nbformat_minor": 4
}
