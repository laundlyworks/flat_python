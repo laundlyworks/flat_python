{
 "cells": [
  {
   "cell_type": "markdown",
   "metadata": {},
   "source": [
    "# ふらっとPythonの会 \n",
    "\n",
    "#### 2022 / 1 / 24\n",
    "\n",
    "## Python基礎\n",
    "\n",
    "## 覚えておくと便利なもの\n",
    "\n",
    "### コマンドモード\n",
    "- `shift + Enter` : セルのスクリプトを実行\n",
    "- `a` : 選択されているセルの**前**にセルを追加\n",
    "- `b` : 選択されているセルの**後**にセルを追加\n",
    "- `j` : 下のセルへ移動\n",
    "- `k` : 上のセルへ移動\n",
    "- `dd` : 選択しているセルを削除\n",
    "- `Y` : コードセルにする\n",
    "- `M` : マークダウンセルにする\n",
    "\n",
    "### 編集モード\n",
    "- `shift + Enter` : セルのスクリプトを実行\n",
    "- `Tab` : 補完\n",
    "- `Escape` : 入力中のセルを非アクティブ化\n",
    "- `Ctrl + /` : コメントアウト\n",
    "- `Ctrl + ]` : インデント（Tabキーでも可）\n",
    "- `shift + Tab` : ツールチップ（超便利！）\n",
    "\n",
    "\n",
    "Notebook では、テキストを書き込むことのできるエリア1つを「セル」と呼びます。 "
   ]
  },
  {
   "cell_type": "markdown",
   "metadata": {},
   "source": [
    "## 1_1. 基本\n",
    "\n",
    "### 1_1_1. HelloWorld!\n",
    "\n",
    "プログラミング言語の初めの一歩として、`Hello World!`と出力してみましょう。\n",
    "\n",
    "`print()`関数を使って出力します。"
   ]
  },
  {
   "cell_type": "code",
   "execution_count": null,
   "metadata": {},
   "outputs": [],
   "source": [
    "# print 文を埋めてください。\n",
    "print(\"\")"
   ]
  },
  {
   "cell_type": "markdown",
   "metadata": {},
   "source": [
    "文字列を扱う時は`\"`（ダブルクォテーション）、または`'`（シングルクォテーション）で文字列を挟みます。\n",
    "\n",
    "これらで挟まない文字列は、スクリプトの中で「変数」とみなされ、大抵の場合エラーになります。"
   ]
  },
  {
   "cell_type": "code",
   "execution_count": null,
   "metadata": {},
   "outputs": [],
   "source": [
    "# \"\"で囲わず実行してみます。\n",
    "print(Hello)"
   ]
  },
  {
   "cell_type": "markdown",
   "metadata": {},
   "source": [
    "プログラミング言語にエラーはつきものです。\n",
    "\n",
    "Jupyter Notebookはインタラクティブ（対話型実行環境）なので、\n",
    "\n",
    "エラーを気にせずどんどん実行して、どんどんヒントをもらいましょう。"
   ]
  },
  {
   "cell_type": "markdown",
   "metadata": {},
   "source": [
    "### コメント記述\n",
    "\n",
    "コードセルの行頭に `#` を付すとプログラムコードではなく、コメントとして認識され，何も実行はされません。\n",
    "\n",
    "コードを書く前後で、`#`でコメントを付し、コードでどういった処理を実行しているのか  \n",
    "わかりやすく説明する癖をつけましょう。他の人が見たときや、自分で後から見返したときに、処理内容を思い出しやすくなります。\n"
   ]
  },
  {
   "cell_type": "code",
   "execution_count": null,
   "metadata": {},
   "outputs": [],
   "source": [
    "#コメント"
   ]
  },
  {
   "cell_type": "markdown",
   "metadata": {},
   "source": [
    "### 1_1_2. 四則演算"
   ]
  },
  {
   "cell_type": "code",
   "execution_count": null,
   "metadata": {},
   "outputs": [],
   "source": [
    "#足し算\n",
    "1 + 1"
   ]
  },
  {
   "cell_type": "code",
   "execution_count": null,
   "metadata": {},
   "outputs": [],
   "source": [
    "#引き算\n",
    "5 - 3 #ちなみに、行中の空白はコンパイル時に全て無視されます。"
   ]
  },
  {
   "cell_type": "code",
   "execution_count": null,
   "metadata": {},
   "outputs": [],
   "source": [
    "#掛け算\n",
    "1456 * 23"
   ]
  },
  {
   "cell_type": "code",
   "execution_count": null,
   "metadata": {},
   "outputs": [],
   "source": [
    "#割り算\n",
    "56 / 3"
   ]
  },
  {
   "cell_type": "code",
   "execution_count": null,
   "metadata": {},
   "outputs": [],
   "source": [
    "#割り算の整数部分のみを出力（”/”を二つ重ねます。）　56÷3は、”18余り2”\n",
    "56 // 3"
   ]
  },
  {
   "cell_type": "code",
   "execution_count": null,
   "metadata": {},
   "outputs": [],
   "source": [
    "#割り算の”余り”の値を出力（”%”を付します。）　56÷3は、”18余り2”\n",
    "56 % 3"
   ]
  },
  {
   "cell_type": "code",
   "execution_count": null,
   "metadata": {},
   "outputs": [],
   "source": [
    "#乗数。２の三乗を求める場合は、* を２つ重ねます。\n",
    "2 ** 3"
   ]
  },
  {
   "cell_type": "code",
   "execution_count": null,
   "metadata": {},
   "outputs": [],
   "source": [
    "#　文字列と文字列の足し算も可能です。\n",
    "\"私の名前は\" + \"ジョンです\""
   ]
  },
  {
   "cell_type": "code",
   "execution_count": null,
   "metadata": {},
   "outputs": [],
   "source": [
    "#　等式を入れると、正誤を判定します。（==を２つ重ねなければならないのは注意!）\n",
    "2 + 3 == 5\n",
    "\n",
    "# 2 + 7 != 10 # 否定等号\n",
    "# 2 + 7 >= 10 # 不等式\n",
    "# 2 * 7 <= 10 # 不等式"
   ]
  },
  {
   "cell_type": "code",
   "execution_count": null,
   "metadata": {},
   "outputs": [],
   "source": [
    "#　文字列の掛け算もできます。\n",
    "\"ゴ\" * 10"
   ]
  },
  {
   "cell_type": "markdown",
   "metadata": {},
   "source": [
    "#### 気づきましたか？\n",
    "\n",
    "Notebookでは、`print()`関数を書かなくても、最後の結果だけは必ず出力してくれます。"
   ]
  },
  {
   "cell_type": "code",
   "execution_count": null,
   "metadata": {},
   "outputs": [],
   "source": [
    "#足し算\n",
    "1 + 1\n",
    "#引き算\n",
    "5 - 3\n",
    "#割り算\n",
    "56 / 3"
   ]
  },
  {
   "cell_type": "code",
   "execution_count": null,
   "metadata": {},
   "outputs": [],
   "source": [
    "#途中出力をしたいときにはprint()関数を使いましょう。\n",
    "#足し算\n",
    "print(1 + 1)\n",
    "#引き算\n",
    "print(5 - 3)\n",
    "#割り算\n",
    "print(56 / 3)"
   ]
  },
  {
   "cell_type": "markdown",
   "metadata": {},
   "source": [
    "### 1_1_3. 変数\n",
    "\n",
    "$1456\\times 23$ などの計算結果を、あとで使いたいときが出てきます。  \n",
    "このような時に、「変数」を使います。\n",
    "\n",
    "`a`という変数に結果を格納してみましょう。\n",
    "\n",
    "※ これもプログラミング特有の表現ですが、変数に値を入れることを\"格納\"といいます。"
   ]
  },
  {
   "cell_type": "code",
   "execution_count": null,
   "metadata": {},
   "outputs": [],
   "source": [
    "a = 1456 * 23"
   ]
  },
  {
   "cell_type": "code",
   "execution_count": null,
   "metadata": {},
   "outputs": [],
   "source": [
    "print(a)\n",
    "a"
   ]
  },
  {
   "cell_type": "code",
   "execution_count": null,
   "metadata": {},
   "outputs": [],
   "source": [
    "# 変数は、カーネルをリセットしない限り保持されます。\n",
    "# ちなみに、カーネルをリセットするときは、画面上部のまるい矢印をクリックします。\n",
    "b = 4 * 6\n",
    "print(a, b)\n",
    "print(a + b)\n",
    "print(a)\n",
    "print(b)"
   ]
  },
  {
   "cell_type": "code",
   "execution_count": null,
   "metadata": {},
   "outputs": [],
   "source": [
    "# print()関数内で変数を定義することはできません。\n",
    "print(c = a + b)"
   ]
  },
  {
   "cell_type": "markdown",
   "metadata": {},
   "source": [
    "### Ex. 1_3\n",
    "\n",
    "変数 `height` に身長、変数 `weight` に体重の値を代入し、BMIを計算してみましょう。\n",
    "\n",
    "$BMI＝ 体重kg ÷ (身長m)^2$"
   ]
  },
  {
   "cell_type": "code",
   "execution_count": null,
   "metadata": {},
   "outputs": [],
   "source": [
    "# 身長（height) を170cm、体重(weight)を65kgとして、\n",
    "#　BMIを計算する数式を入れてみましょう。\n"
   ]
  },
  {
   "cell_type": "markdown",
   "metadata": {},
   "source": [
    "### 1_1_4. 配列（list）と辞書（dictionary）\n",
    "\n",
    "複数のデータに対して、それぞれ同じ処理を行いたいことはよくあります。\n",
    "\n",
    "例えば、1から3までの数に対して、それぞれ x2 したいとします。\n",
    "\n",
    "このとき、次のようにそれぞれに変数を割り当てる方法があります。"
   ]
  },
  {
   "cell_type": "code",
   "execution_count": null,
   "metadata": {},
   "outputs": [],
   "source": [
    "a1 = 1\n",
    "a2 = 2\n",
    "a3 = 3\n",
    "print(a1 * 2, a2 * 2, a3 * 2)"
   ]
  },
  {
   "cell_type": "markdown",
   "metadata": {},
   "source": [
    "しかし、これでは 1 から 100 までひとつずつ書くのは面倒ですし、見返すことも大変です。\n",
    "\n",
    "変更が生じたときに全て変更するのも一苦労です。\n",
    "\n",
    "このとき、`[]`を使うことで配列を作り、複数のデータを一度に格納することができます。  "
   ]
  },
  {
   "cell_type": "code",
   "execution_count": null,
   "metadata": {},
   "outputs": [],
   "source": [
    "order = [1, 2, 3, 4, 5, 6, 7, 8, 9, 11]\n",
    "order"
   ]
  },
  {
   "cell_type": "markdown",
   "metadata": {},
   "source": [
    "では、 order * 2 とすれば、それぞれの要素を2倍できるのでしょうか？"
   ]
  },
  {
   "cell_type": "code",
   "execution_count": null,
   "metadata": {},
   "outputs": [],
   "source": [
    "# order * 2"
   ]
  },
  {
   "cell_type": "markdown",
   "metadata": {},
   "source": [
    "少し話題を変えて、\n",
    "\n",
    "複数のデータをを定義する別の方法である辞書（dictionary）を紹介します。\n",
    "\n",
    "辞書は、`key`と`Value`のセットを`{}`を使って格納します。（`:`の前を`key`、後ろを`value`といいます。）"
   ]
  },
  {
   "cell_type": "code",
   "execution_count": null,
   "metadata": {},
   "outputs": [],
   "source": [
    "capital = {\"日本\":\"東京\", \"アメリカ\":\"ニューヨーク\", \"フランス\": \"パリ\", \"韓国\": \"ソウル\", \"中国\": \"北京\"}\n",
    "capital"
   ]
  },
  {
   "cell_type": "markdown",
   "metadata": {},
   "source": [
    "辞書型を提供しているプログラミング言語は、そこまで多くありません。\n",
    "\n",
    "配列と辞書には、「データが順序通りに格納されるのが配列、キーによってデータに名前がつけられるのが辞書」という違いがあります。\n",
    "\n",
    "データを呼び出すときに、呼び出し方が異なります。"
   ]
  },
  {
   "cell_type": "code",
   "execution_count": null,
   "metadata": {},
   "outputs": [],
   "source": [
    "# orderの5番目のデータを呼び出すには以下のように書きます。\n",
    "print(order[5])\n",
    "\n",
    "# （ちなみに、Pythonは 0 から数えるので、5番目というのは、私たちの世界では6番目のことを指します。）"
   ]
  },
  {
   "cell_type": "code",
   "execution_count": null,
   "metadata": {},
   "outputs": [],
   "source": [
    "# 辞書型のデータには、順序の情報がないので、定義した順番を入力しても呼び出すことはできません。\n",
    "print(capital[5])"
   ]
  },
  {
   "cell_type": "code",
   "execution_count": null,
   "metadata": {},
   "outputs": [],
   "source": [
    "# capitalのデータは、キーを入力することで呼び出すことができます。\n",
    "print(capital[\"アメリカ\"])"
   ]
  },
  {
   "cell_type": "code",
   "execution_count": null,
   "metadata": {},
   "outputs": [],
   "source": [
    "# 配列にはキーが存在しないので、キーでデータを定義したり、データを呼び出すことはできません。\n",
    "print(order[\"アメリカ\"])"
   ]
  },
  {
   "cell_type": "markdown",
   "metadata": {},
   "source": [
    "ふたつ目のエラー`KeyError: 5`は、`5`という`key`がおかしいということを、\n",
    "\n",
    "ひとつ目のエラー`TypeError: list indices must be integers or slices, not str`は読みづらいですが、要約すると、配列に`[]`するときは、文字列は使えないことを、それぞれ伝えてくれています。"
   ]
  },
  {
   "cell_type": "markdown",
   "metadata": {},
   "source": [
    "### Ex. 1_4\n",
    "\n",
    "次に行く前に、`order`と`capital`には、気になるところがあるので、直しておきましょう。"
   ]
  },
  {
   "cell_type": "code",
   "execution_count": null,
   "metadata": {},
   "outputs": [],
   "source": [
    "# 配列は、位置を指定し上書きすることができます。\n",
    "# ex_1_4_list = [\"月\",\"火\",\"木\",\"木\",\"金\",\"土\",\"日\"]\n",
    "# ex_1_4_list[2] = \"水\" \n",
    "# ex_1_4_list"
   ]
  },
  {
   "cell_type": "code",
   "execution_count": null,
   "metadata": {},
   "outputs": [],
   "source": [
    "# 辞書の場合も、キーで値を指定し上書きができます。\n",
    "# ex_1_4_dict = {\"mon\":\"月\", \"tue\":\"火\", \"wed\":\"木\", \"thr\":\"木\", \"fri\":\"金\", \"sat\":\"土\", \"san\":\"日\"}\n",
    "# ex_1_4_dict[\"wed\"] = \"水\"\n",
    "# ex_1_4_dict"
   ]
  },
  {
   "cell_type": "markdown",
   "metadata": {},
   "source": [
    "### 1_1_5. 型\n",
    "\n",
    "先の`TypeError`は、データの型がおかしいということを伝えるエラーでした。\n",
    "\n",
    "「型」はプログラミング言語特有の概念であり、\n",
    "\n",
    "普段型を意識せず会話する私たちにとっては、「型」は最初のつまづきポイントです。\n",
    "\n",
    "#### ここまでで出てきた「型」\n",
    "- int型（数値型）　　　　　　　　　　　　　　　　　\n",
    "- float型（浮動小数点型）  　　\n",
    "- str型(文字列型)　\n",
    "- bool型（論理型）\n",
    "- dict型（辞書型）\n",
    "- list型（配列型）"
   ]
  },
  {
   "cell_type": "code",
   "execution_count": null,
   "metadata": {},
   "outputs": [],
   "source": [
    "# type()関数で型を見ることができます。\n",
    "\n",
    "integer = 567890\n",
    "print(f\"{integer}は{type(integer)}です。\")\n",
    "\n",
    "floating = 3.141592\n",
    "print(f\"{floating}は{type(floating)}です。\")\n",
    "\n",
    "strings = \"あわくら会館\"\n",
    "print(f\"{strings}は{type(strings)}です。\")\n",
    "\n",
    "boolean = True\n",
    "print(f\"{boolean}は{type(boolean)}です。\")\n",
    "\n",
    "boolean = True\n",
    "print(f\"{boolean}は{type(boolean)}です。\")\n",
    "\n",
    "dictionary = {\"M\":\"明治\", \"T\":\"大正\", \"S\":\"昭和\", \"H\":\"平成\", \"R\":\"令和\"}\n",
    "print(f\"{dictionary}は{type(dictionary)}です。\")\n",
    "\n",
    "type_list = [\"H\", \"He\", \"Li\", \"Be\", \"B\", \"C\", \"N\", \"O\", \"F\", \"Ne\"]\n",
    "print(f\"{type_list}は{type(type_list)}です。\")"
   ]
  },
  {
   "cell_type": "markdown",
   "metadata": {},
   "source": [
    "#### 型変換\n",
    "\n",
    "型を変換するには、帽子をかぶせるように、`int()`や`str()`とすれば型変換ができます。\n",
    "\n",
    "スクリプトを書く際に、型変換は度々行うことになりますが、型変換によって、値が変わることがある点には注意です。"
   ]
  },
  {
   "cell_type": "code",
   "execution_count": null,
   "metadata": {},
   "outputs": [],
   "source": [
    "print(5)\n",
    "str(5)"
   ]
  },
  {
   "cell_type": "code",
   "execution_count": null,
   "metadata": {},
   "outputs": [],
   "source": [
    "print(3.14)\n",
    "int(3.14)"
   ]
  },
  {
   "cell_type": "code",
   "execution_count": null,
   "metadata": {},
   "outputs": [],
   "source": [
    "# 変数bの中にいろいろな型のデータを入れたリストを格納してみます。\n",
    "b = [1, 2, 3, \"Taro\", \"Jiro\", [4.5,6], True]"
   ]
  },
  {
   "cell_type": "code",
   "execution_count": null,
   "metadata": {},
   "outputs": [],
   "source": [
    "b"
   ]
  },
  {
   "cell_type": "markdown",
   "metadata": {},
   "source": [
    "### 1_1_6. 配列の操作\n",
    "\n",
    "#### 配列のスライス\n",
    "\n",
    "配列の中の要素は、部分指定することができます。\n",
    "\n",
    "データを扱う実務では、一つだけ指定するより、部分指定することの方が圧倒的に多いです。\n",
    "\n",
    "部分指定することを `slice` といいます（一部を切り取るイメージ）"
   ]
  },
  {
   "cell_type": "code",
   "execution_count": null,
   "metadata": {},
   "outputs": [],
   "source": [
    "#　リストの一番目の要素を取り出したい場合.　要素は 0 からカウントすることに注意！\n",
    "b[3]"
   ]
  },
  {
   "cell_type": "code",
   "execution_count": null,
   "metadata": {},
   "outputs": [],
   "source": [
    "#リストの三番目の要素から,五番目までを取り出したい場合\n",
    "b[2:5]"
   ]
  },
  {
   "cell_type": "code",
   "execution_count": null,
   "metadata": {},
   "outputs": [],
   "source": [
    "#リストの最初から三番目までを取り出したい場合.　最初の添え字は省略可能\n",
    "b[:3]"
   ]
  },
  {
   "cell_type": "code",
   "execution_count": null,
   "metadata": {},
   "outputs": [],
   "source": [
    "#リストの三番目から最後までを取り出したい場合.　最後の添え字は省略可能\n",
    "b[2:]"
   ]
  },
  {
   "cell_type": "code",
   "execution_count": null,
   "metadata": {},
   "outputs": [],
   "source": [
    "#後ろから二番目の要素を取り出す。\n",
    "#その場合は”-”（マイナス記号）を付します。\n",
    "b[-2]"
   ]
  },
  {
   "cell_type": "code",
   "execution_count": null,
   "metadata": {},
   "outputs": [],
   "source": [
    "#後ろから三番目以降の要素を取り出す.\n",
    "b[-3:]"
   ]
  },
  {
   "cell_type": "code",
   "execution_count": null,
   "metadata": {},
   "outputs": [],
   "source": [
    "#リストの二番目の要素から、六番目までの要素を、一個飛ばしで取り出したい場合（３つ目の添え字は何個飛ばしかを指定しています。）\n",
    "b[1:6:2]"
   ]
  },
  {
   "cell_type": "markdown",
   "metadata": {},
   "source": [
    "#### 文字列のスライス\n",
    "\n",
    "スライスは文字列に対して行うと、文字単位での指定がができます。"
   ]
  },
  {
   "cell_type": "code",
   "execution_count": null,
   "metadata": {},
   "outputs": [],
   "source": [
    "# 変数cに文字列を代入\n",
    "c = \"親譲りの無鉄砲で小供の時から損ばかりしている。\""
   ]
  },
  {
   "cell_type": "code",
   "execution_count": null,
   "metadata": {},
   "outputs": [],
   "source": [
    "#　五番目以降の文字をすべて取り出す.\n",
    "c[4:]"
   ]
  },
  {
   "cell_type": "markdown",
   "metadata": {},
   "source": [
    "#### 要素数のカウント\n",
    "\n",
    "組み込み関数 `len()` を使うと、要素の数や文字列の長さを出力することができます."
   ]
  },
  {
   "cell_type": "code",
   "execution_count": null,
   "metadata": {},
   "outputs": [],
   "source": [
    "#　配列bの要素数をカウント\n",
    "len(b)"
   ]
  },
  {
   "cell_type": "code",
   "execution_count": null,
   "metadata": {},
   "outputs": [],
   "source": [
    "#　文字列cの文字数をカウント\n",
    "len(c)"
   ]
  },
  {
   "cell_type": "markdown",
   "metadata": {},
   "source": [
    "なお、要素の数をオーバーする添え字を指定するとエラーになります。"
   ]
  },
  {
   "cell_type": "code",
   "execution_count": null,
   "metadata": {},
   "outputs": [],
   "source": [
    "# b の要素数が少なければエラーになるはずです\n",
    "b[7]"
   ]
  },
  {
   "cell_type": "code",
   "execution_count": null,
   "metadata": {},
   "outputs": [],
   "source": [
    "# スライスを操って部分文字列を取り出してみてください\n",
    "c"
   ]
  },
  {
   "cell_type": "code",
   "execution_count": null,
   "metadata": {},
   "outputs": [],
   "source": [
    "# 「1つ飛ばし」で要素にアクセスする、ということも可能です。\n",
    "c[::2]"
   ]
  },
  {
   "cell_type": "markdown",
   "metadata": {},
   "source": [
    "#### 要素の追加\n",
    "\n",
    "リストに新たな要素を追加するには，`.append()`を使います。  "
   ]
  },
  {
   "cell_type": "code",
   "execution_count": null,
   "metadata": {},
   "outputs": [],
   "source": [
    "# 配列aの中に新たな要素として 10 を追加\n",
    "a = []\n",
    "a.append(10)"
   ]
  },
  {
   "cell_type": "code",
   "execution_count": null,
   "metadata": {},
   "outputs": [],
   "source": [
    "# 確認する\n",
    "a"
   ]
  },
  {
   "cell_type": "code",
   "execution_count": null,
   "metadata": {},
   "outputs": [],
   "source": [
    "# 配列aに配列bを追加\n",
    "a.append(b)"
   ]
  },
  {
   "cell_type": "code",
   "execution_count": null,
   "metadata": {},
   "outputs": [],
   "source": [
    "# 確認する\n",
    "a"
   ]
  },
  {
   "cell_type": "code",
   "execution_count": null,
   "metadata": {},
   "outputs": [],
   "source": [
    "# 入れ子になった配列を指定するには、位置を繰り返し指定すればよいです。\n",
    "a[1][5][1]"
   ]
  },
  {
   "cell_type": "markdown",
   "metadata": {},
   "source": [
    "#### 要素の削除\n",
    "\n",
    "配列の要素を削除するには、`.pop()`を使います。"
   ]
  },
  {
   "cell_type": "code",
   "execution_count": null,
   "metadata": {},
   "outputs": [],
   "source": [
    "a[1].pop(5)\n",
    "a"
   ]
  },
  {
   "cell_type": "markdown",
   "metadata": {},
   "source": [
    "「.append()」のように、変数のあとに `.` を付けてリストを編集する機能を「メソッド」と呼びます。\n",
    "\n",
    "メソッドには多くの種類があります。全てを覚えるよりも、実際の作業を通して記憶に残しておく程度で良いと思います。"
   ]
  },
  {
   "cell_type": "markdown",
   "metadata": {},
   "source": [
    "### 1_1_7. `for` 文による繰り返し処理\n",
    "\n",
    "少し戻って、1から3までの数に対して、それぞれ x2 するスクリプトを実装します。\n",
    "\n",
    "やり方はいくつかありますが、`for`を使った繰り返し処理がもっともシンプルです。"
   ]
  },
  {
   "cell_type": "code",
   "execution_count": null,
   "metadata": {},
   "outputs": [],
   "source": [
    "# 繰り返し処理の例\n",
    "for i in range(10): # <= for 繰り返し処理で使用する変数 in 複数のデータがあるオブジェクト:\n",
    "    print(i)"
   ]
  },
  {
   "cell_type": "markdown",
   "metadata": {},
   "source": [
    "オブジェクトとは、複数のデータが格納されている変数であれば、基本的にどんなものでも構いません。\n",
    "\n",
    "配列や辞書も使うことができます。\n",
    "\n",
    "`range()`は、指定した整数の範囲を簡単に生成できる関数で、特に`for`文ではよく使います。"
   ]
  },
  {
   "cell_type": "code",
   "execution_count": null,
   "metadata": {},
   "outputs": [],
   "source": [
    "# rangeは、本来2つの引数を持ちますが、最初の引数が0の場合省略できます。\n",
    "range(10)"
   ]
  },
  {
   "cell_type": "markdown",
   "metadata": {},
   "source": [
    "スクリプトが２行にわたるとき、他のプログラミング言語では、`{}`で囲うなど、接続子が必要なことが多いですが、\n",
    "\n",
    "Pythonでは、Tabによる字下げによって判断します。\n",
    "\n",
    "字下げが行われていないことによるエラー`IndentationError`もよく発生するので要注意です。"
   ]
  },
  {
   "cell_type": "code",
   "execution_count": null,
   "metadata": {},
   "outputs": [],
   "source": [
    "for i in range(10):\n",
    "print(i) # <= 字下げができていないとエラーが発生します。"
   ]
  },
  {
   "cell_type": "markdown",
   "metadata": {},
   "source": [
    "`range(10)`は、 `0` から `0 + 10` までの整数のセットであり、\n",
    "\n",
    "`for`文によって、ひとつずつ `i` の中に格納したものを、`print(i)`の部分で出力しています。  \n",
    "\n",
    "始まりの数を0ではなく、1にするにも、いくつかやり方がありそうです。"
   ]
  },
  {
   "cell_type": "code",
   "execution_count": null,
   "metadata": {},
   "outputs": [],
   "source": [
    "for i in range(10):\n",
    "    print(i+1)"
   ]
  },
  {
   "cell_type": "code",
   "execution_count": null,
   "metadata": {},
   "outputs": [],
   "source": [
    "for i in range(1, 11):\n",
    "    print(i)"
   ]
  },
  {
   "cell_type": "markdown",
   "metadata": {},
   "source": [
    "## Ex. 1_6. \n",
    "\n",
    "1から100までの数を、全て2倍した配列`twice`を定義せよ。"
   ]
  },
  {
   "cell_type": "code",
   "execution_count": null,
   "metadata": {},
   "outputs": [],
   "source": [
    "# 空の配列を作成します。\n",
    "# twice = []\n",
    "\n",
    "# 1から100までの繰り返し文を定義します。\n",
    "# for i in range(1, 101):\n",
    "\n",
    "# 空の配列に2倍にした数をひとつずつ追加します。\n",
    "#     twice.append(i * 2)\n",
    "\n",
    "# 配列を確認します。\n",
    "# twice"
   ]
  },
  {
   "cell_type": "markdown",
   "metadata": {},
   "source": [
    "### 1_1_7. 関数の定義\n",
    "\n",
    "「変数」にデータを格納することで、データを再利用することができました。\n",
    "\n",
    "データを処理するスクリプトを再利用するためには、処理をまとめて、「関数」として定義します。 \n",
    "\n",
    "関数を定義するには、`def` を使います。\n",
    "\n",
    "例えば、「あ」という文字列を $n$ 回出力するような関数`atimes`を作ってみましょう。"
   ]
  },
  {
   "cell_type": "code",
   "execution_count": null,
   "metadata": {},
   "outputs": [],
   "source": [
    "def atimes(n, a): # <=関数内で使用する変数はここで全て定義します。\n",
    "    for i in range(n):\n",
    "        print(a)"
   ]
  },
  {
   "cell_type": "code",
   "execution_count": null,
   "metadata": {},
   "outputs": [],
   "source": [
    "atimes(10, \"あ\")"
   ]
  },
  {
   "cell_type": "markdown",
   "metadata": {},
   "source": [
    "一連の処理を行った結果を呼び出し元へ返したい場合、関数の最後に`return` をつけます。\n",
    "\n",
    "では、$x$までの総和を計算する関数`tot`を作って見ましょう。"
   ]
  },
  {
   "cell_type": "code",
   "execution_count": null,
   "metadata": {},
   "outputs": [],
   "source": [
    "def tot(x):\n",
    "    total = 0\n",
    "    for i in range(1, x + 1):\n",
    "        total += i \n",
    "    return total"
   ]
  },
  {
   "cell_type": "code",
   "execution_count": null,
   "metadata": {},
   "outputs": [],
   "source": [
    "# tot関数を実行してみましょう。\n",
    "tot(100)"
   ]
  },
  {
   "cell_type": "markdown",
   "metadata": {},
   "source": [
    "### Ex. 1_7\n",
    "\n",
    "`for` 文を使わずに上記の結果を返す関数を一行で書いてみましょう。\n",
    "\n",
    "ヒント：値を足し合わせる関数 `sum()` をうまく使えないでしょうか...？\n"
   ]
  },
  {
   "cell_type": "code",
   "execution_count": null,
   "metadata": {},
   "outputs": [],
   "source": [
    "# return 以下にスクリプトを追加してtot2関数を完成させてください。\n",
    "def tot2(x):\n",
    "    return"
   ]
  },
  {
   "cell_type": "markdown",
   "metadata": {},
   "source": [
    "ちなみに、等差数列の和は次のように表せます。\n",
    "\n",
    "$$\n",
    "\\sum_{k=1}^{n}k=\\frac{n(n+1)}{2} \\\n",
    "$$"
   ]
  },
  {
   "cell_type": "code",
   "execution_count": null,
   "metadata": {},
   "outputs": [],
   "source": [
    "#tot関数を実行してみましょう。\n",
    "tot2(100)"
   ]
  },
  {
   "cell_type": "markdown",
   "metadata": {},
   "source": [
    "### 1_1_8. `if`文による条件分岐処理\n",
    "\n",
    "ある条件を満たした時だけ実行される処理を実装するには、`if` を使います。\n",
    "\n",
    "- `a` という変数が3で割り切れる時にだけ「3で割り切れる」と出力する\n",
    "- そうでないときは、「3で割り切れない」と出力する\n",
    "\n",
    "`if`内の条件分岐は `True` か `False` によって変わります。"
   ]
  },
  {
   "cell_type": "code",
   "execution_count": null,
   "metadata": {},
   "outputs": [],
   "source": [
    "a = 10\n",
    "a % 3 == 0"
   ]
  },
  {
   "cell_type": "code",
   "execution_count": null,
   "metadata": {},
   "outputs": [],
   "source": [
    "if a % 3 == 0:\n",
    "    print(\"3で割り切れる\")\n",
    "else:\n",
    "    print(\"3で割り切れない\")"
   ]
  },
  {
   "cell_type": "markdown",
   "metadata": {},
   "source": [
    "### Ex. 1_8\n",
    "\n",
    "`for`文と `if`文を組み合わせて、 1から100の中で、7の倍数を出力させましょう。"
   ]
  },
  {
   "cell_type": "markdown",
   "metadata": {},
   "source": [
    "---"
   ]
  },
  {
   "cell_type": "markdown",
   "metadata": {},
   "source": [
    "## 1_2. モジュールの利用\n",
    "\n",
    "Python 標準の組み込み関数（`sum()` や `len()` など。一覧は[こちら](https://docs.python.jp/3/library/functions.html)）でできることはそこまで多くありません。\n",
    "\n",
    "しかし、Python には、世界中の企業や個人が作成した外部モジュールを手元で使うことができます。\n",
    "\n",
    "それが、Python が強力たるゆえんです。\n",
    "\n",
    "### 1_2_1. `math`モジュールの読み込み\n",
    "\n",
    "例として、数学的処理をおこなう関数・定数が用意されている`math`モジュールを読み込んでみましょう。\n",
    "\n",
    "`import`文を書くことでモジュールを利用できます。\n",
    "`math`モジュールの詳細については、[公式ドキュメント](https://docs.python.jp/3/library/math.html)を参照してみてください。\n"
   ]
  },
  {
   "cell_type": "code",
   "execution_count": null,
   "metadata": {},
   "outputs": [],
   "source": [
    "import math"
   ]
  },
  {
   "cell_type": "markdown",
   "metadata": {},
   "source": [
    "では、読み込んだ `math`モジュールを使ってみましょう。\n",
    "\n",
    "`math` の名の通り様々な数学処理が可能となっており、例えば自然対数の底 $e$ の累乗、サイン、コサインの値、などを計算できます。\n",
    "\n",
    "試しに、$\\mathrm{cos}(0)$の値を計算してみましょう。"
   ]
  },
  {
   "cell_type": "code",
   "execution_count": null,
   "metadata": {},
   "outputs": [],
   "source": [
    "math.cos(0)"
   ]
  },
  {
   "cell_type": "markdown",
   "metadata": {},
   "source": [
    "次の様に実行することで、円周率$\\pi$の値を出力できます。"
   ]
  },
  {
   "cell_type": "code",
   "execution_count": null,
   "metadata": {},
   "outputs": [],
   "source": [
    "math.pi"
   ]
  },
  {
   "cell_type": "markdown",
   "metadata": {},
   "source": [
    "では、$\\mathrm{sin}(\\pi)$を計算してみましょう。"
   ]
  },
  {
   "cell_type": "code",
   "execution_count": null,
   "metadata": {},
   "outputs": [],
   "source": [
    "# 読み込んだ外部モジュールに、名前をつけて短縮化することができます。\n",
    "import math as m"
   ]
  },
  {
   "cell_type": "markdown",
   "metadata": {},
   "source": [
    "これが同じ様に使えるか確かめてみましょう。"
   ]
  },
  {
   "cell_type": "code",
   "execution_count": null,
   "metadata": {},
   "outputs": [],
   "source": [
    "print(m.cos(0))\n",
    "print(math.pi)"
   ]
  },
  {
   "cell_type": "markdown",
   "metadata": {},
   "source": [
    "## 1_3. 文字列と配列\n",
    "\n",
    "### 1_3_1. 文字列と配列\n",
    "\n",
    "1_1 節で、文字列を扱う際には `\"`で囲む必要があることを確認しました。  \n",
    "ここでは、データ分析を行う際の前処理にとても便利な、文字列の分割と結合について説明を加えます。\n",
    "\n",
    "まずは次のような文字列が与えられたとします。"
   ]
  },
  {
   "cell_type": "code",
   "execution_count": null,
   "metadata": {},
   "outputs": [],
   "source": [
    "PRML = \"Pattern Recognition and Machine Learning\""
   ]
  },
  {
   "cell_type": "code",
   "execution_count": null,
   "metadata": {},
   "outputs": [],
   "source": [
    "print(PRML)"
   ]
  },
  {
   "cell_type": "markdown",
   "metadata": {},
   "source": [
    "例えば、この中の4番目の単語に当たる \"Machine\" を抽出して扱う必要がある場合を考えてみます。  \n",
    "前から何番目の文字かを数えてスライスで切り出すことも可能ですが、とても面倒です。\n",
    "\n",
    "#### 文字列のリストへの分割\n",
    "\n",
    "以下のように、区切り文字を指定して 文字列の`.split()` メソッドを用いると、  \n",
    "その文字によって分割されたリストを得ることができます。\n",
    "\n",
    "たとえば、`.split(\" \")`と記述した場合は、半角スペースによって区切られた配列を取得できます。  \n",
    "（※ただし、区切り文字を指定しない場合はデフォルトで空白文字が使われますので、このケースでは `.split()` だけでもうまくいきます）\n",
    "\n",
    "英語の場合は各単語が半角スペースで区切られているため、  \n",
    "このような処理で単語と単語を分割することができ、非常に便利です。\n",
    "\n",
    "（日本語の場合は文章がひと続きになっているため、英語よりも処理が複雑になります)"
   ]
  },
  {
   "cell_type": "code",
   "execution_count": null,
   "metadata": {},
   "outputs": [],
   "source": [
    "PRML_a = PRML.split(\" \")\n",
    "print(PRML_a)"
   ]
  },
  {
   "cell_type": "markdown",
   "metadata": {},
   "source": [
    "#### 参考：.replace() メソッドで要素の置換"
   ]
  },
  {
   "cell_type": "code",
   "execution_count": null,
   "metadata": {},
   "outputs": [],
   "source": [
    "PRML_b = PRML.replace(\" \", \"_\")\n",
    "print(PRML_b)"
   ]
  },
  {
   "cell_type": "markdown",
   "metadata": {},
   "source": [
    "#### 文字列のリストの結合\n",
    "\n",
    "**文字列の要素だけで構成されるリスト**を結合してひとつの文字列にする時は、区切り文字の `.join()` メソッドを用います。"
   ]
  },
  {
   "cell_type": "code",
   "execution_count": null,
   "metadata": {},
   "outputs": [],
   "source": [
    "PRML = \" \".join(PRML_a)\n",
    "PRML2 = \"-\".join(PRML_a)\n",
    "print(PRML)\n",
    "print(PRML2)"
   ]
  }
 ],
 "metadata": {
  "kernelspec": {
   "display_name": "Python 3",
   "language": "python",
   "name": "python3"
  },
  "language_info": {
   "codemirror_mode": {
    "name": "ipython",
    "version": 3
   },
   "file_extension": ".py",
   "mimetype": "text/x-python",
   "name": "python",
   "nbconvert_exporter": "python",
   "pygments_lexer": "ipython3",
   "version": "3.8.3"
  }
 },
 "nbformat": 4,
 "nbformat_minor": 4
}
